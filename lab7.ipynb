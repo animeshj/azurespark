{
 "cells": [
  {
   "cell_type": "code",
   "execution_count": 81,
   "metadata": {},
   "outputs": [],
   "source": [
    "##https://spark.apache.org/docs/latest/api/python/pyspark.html#pyspark.RDD\n",
    "sc.stop()"
   ]
  },
  {
   "cell_type": "code",
   "execution_count": 13,
   "metadata": {},
   "outputs": [
    {
     "data": {
      "text/plain": [
       "'spark://dsvmvm.phdfsguaoloerevz2ncsjbuo3e.cx.internal.cloudapp.net:7077'"
      ]
     },
     "execution_count": 13,
     "metadata": {},
     "output_type": "execute_result"
    }
   ],
   "source": [
    "import socket\n",
    "master_url=\"spark://\"+socket.getfqdn()+\":7077\"\n",
    "master_url"
   ]
  },
  {
   "cell_type": "code",
   "execution_count": 15,
   "metadata": {},
   "outputs": [
    {
     "data": {
      "text/html": [
       "\n",
       "        <div>\n",
       "            <p><b>SparkContext</b></p>\n",
       "\n",
       "            <p><a href=\"http://dsvmvm.phdfsguaoloerevz2ncsjbuo3e.cx.internal.cloudapp.net:4040\">Spark UI</a></p>\n",
       "\n",
       "            <dl>\n",
       "              <dt>Version</dt>\n",
       "                <dd><code>v2.3.2</code></dd>\n",
       "              <dt>Master</dt>\n",
       "                <dd><code>spark://dsvmvm.phdfsguaoloerevz2ncsjbuo3e.cx.internal.cloudapp.net:7077</code></dd>\n",
       "              <dt>AppName</dt>\n",
       "                <dd><code>transformations</code></dd>\n",
       "            </dl>\n",
       "        </div>\n",
       "        "
      ],
      "text/plain": [
       "<SparkContext master=spark://dsvmvm.phdfsguaoloerevz2ncsjbuo3e.cx.internal.cloudapp.net:7077 appName=transformations>"
      ]
     },
     "execution_count": 15,
     "metadata": {},
     "output_type": "execute_result"
    }
   ],
   "source": [
    "import pyspark\n",
    "conf=pyspark.SparkConf()\n",
    "sc = pyspark.SparkContext(master=master_url, appName='transformations', conf=conf)\n",
    "sc"
   ]
  },
  {
   "cell_type": "code",
   "execution_count": 19,
   "metadata": {},
   "outputs": [],
   "source": [
    "num_partitions=2\n",
    "myRDD = sc.parallelize([(\"a\", 1), (\"b\", 1), (\"a\", 1)],num_partitions)"
   ]
  },
  {
   "cell_type": "code",
   "execution_count": 38,
   "metadata": {},
   "outputs": [
    {
     "name": "stdout",
     "output_type": "stream",
     "text": [
      "key=b and value=1,\n",
      "key=a and value=1,1,\n"
     ]
    }
   ],
   "source": [
    "for x in myRDD.groupByKey().collect():\n",
    "    valuelist=\"\"\n",
    "    sep=\",\"\n",
    "    for y in x[1]:\n",
    "        valuelist = str(y)+sep+valuelist\n",
    "    print(\"key=\"+x[0] +  \" and \" + \"value=\"+valuelist)\n",
    "    "
   ]
  },
  {
   "cell_type": "code",
   "execution_count": 52,
   "metadata": {},
   "outputs": [
    {
     "name": "stdout",
     "output_type": "stream",
     "text": [
      "b1\n",
      "a1_1\n"
     ]
    }
   ],
   "source": [
    "for x in myRDD.groupByKey().map(lambda x: x[0]+ \"_\".join(str(y) for y in x[1]) ).collect():\n",
    "    print(x)"
   ]
  },
  {
   "cell_type": "code",
   "execution_count": 54,
   "metadata": {},
   "outputs": [
    {
     "name": "stdout",
     "output_type": "stream",
     "text": [
      "('b', 1)\n",
      "('a', '1 , 1')\n"
     ]
    }
   ],
   "source": [
    "for m in myRDD.reduceByKey(lambda x,y: str(x)+\" , \"+str(y)).collect():\n",
    "    print(m)"
   ]
  },
  {
   "cell_type": "code",
   "execution_count": 56,
   "metadata": {},
   "outputs": [
    {
     "data": {
      "text/plain": [
       "[('b', [1]), ('a', [1, 1])]"
      ]
     },
     "execution_count": 56,
     "metadata": {},
     "output_type": "execute_result"
    }
   ],
   "source": [
    "def to_list(a):\n",
    "    ##V => C\n",
    "    return [a]\n",
    "\n",
    "def appendValueToList(a, b):\n",
    "    ##C + f(V)=>C\n",
    "    a.append(b)\n",
    "    return a\n",
    "\n",
    "def appendCombiners(a, b):\n",
    "    ##C + C\n",
    "    a.extend(b)\n",
    "    return a\n",
    "\n",
    "myRDD.combineByKey(to_list, appendValueToList, appendCombiners).collect()"
   ]
  },
  {
   "cell_type": "code",
   "execution_count": 78,
   "metadata": {},
   "outputs": [],
   "source": [
    "b = sc.broadcast({\"apple\":2,\"banana\":3})"
   ]
  },
  {
   "cell_type": "code",
   "execution_count": 79,
   "metadata": {},
   "outputs": [
    {
     "data": {
      "text/plain": [
       "[('apple', 2), ('banana', 3), ('banan', 0)]"
      ]
     },
     "execution_count": 79,
     "metadata": {},
     "output_type": "execute_result"
    }
   ],
   "source": [
    "myRDD1 = sc.parallelize([\"apple\",\"banana\",\"banan\"],2)\n",
    "myRDD1.map(lambda x: (x,b.value.get(x,0))).collect()"
   ]
  },
  {
   "cell_type": "code",
   "execution_count": 80,
   "metadata": {},
   "outputs": [],
   "source": [
    "b.destroy()"
   ]
  }
 ],
 "metadata": {
  "kernelspec": {
   "display_name": "Python 3 Spark - local",
   "language": "python",
   "name": "spark-3-python"
  },
  "language_info": {
   "codemirror_mode": {
    "name": "ipython",
    "version": 3
   },
   "file_extension": ".py",
   "mimetype": "text/x-python",
   "name": "python",
   "nbconvert_exporter": "python",
   "pygments_lexer": "ipython3",
   "version": "3.5.5"
  }
 },
 "nbformat": 4,
 "nbformat_minor": 2
}
